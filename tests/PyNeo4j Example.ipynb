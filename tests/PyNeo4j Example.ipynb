{
 "cells": [
  {
   "cell_type": "code",
   "execution_count": 1,
   "metadata": {
    "collapsed": false,
    "scrolled": true
   },
   "outputs": [],
   "source": [
    "from pyneo4j import Node"
   ]
  },
  {
   "cell_type": "code",
   "execution_count": 2,
   "metadata": {
    "collapsed": false
   },
   "outputs": [
    {
     "data": {
      "text/plain": [
       "<Node#0: b'Luke Skywalker'>"
      ]
     },
     "execution_count": 2,
     "metadata": {},
     "output_type": "execute_result"
    }
   ],
   "source": [
    "Node('Human', name='Luke Skywalker')"
   ]
  },
  {
   "cell_type": "code",
   "execution_count": 3,
   "metadata": {
    "collapsed": false
   },
   "outputs": [
    {
     "data": {
      "text/plain": [
       "[<Node#80: b'Rey'>]"
      ]
     },
     "execution_count": 3,
     "metadata": {},
     "output_type": "execute_result"
    }
   ],
   "source": [
    "Node('Human').filter(name='Rey')"
   ]
  },
  {
   "cell_type": "code",
   "execution_count": 4,
   "metadata": {
    "collapsed": false
   },
   "outputs": [
    {
     "data": {
      "text/plain": [
       "[<Node#0: b'Luke Skywalker'>,\n",
       " <Node#4: b'Darth Vader'>,\n",
       " <Node#5: b'Leia Organa'>,\n",
       " <Node#6: b'Owen Lars'>,\n",
       " <Node#7: b'Beru Whitesun lars'>,\n",
       " <Node#9: b'Biggs Darklighter'>,\n",
       " <Node#10: b'Obi-Wan Kenobi'>,\n",
       " <Node#11: b'Anakin Skywalker'>,\n",
       " <Node#12: b'Wilhuff Tarkin'>,\n",
       " <Node#14: b'Han Solo'>,\n",
       " <Node#17: b'Wedge Antilles'>,\n",
       " <Node#18: b'Jek Tono Porkins'>,\n",
       " <Node#20: b'Palpatine'>,\n",
       " <Node#21: b'Boba Fett'>,\n",
       " <Node#24: b'Lando Calrissian'>,\n",
       " <Node#25: b'Lobot'>,\n",
       " <Node#27: b'Mon Mothma'>,\n",
       " <Node#28: b'Arvel Crynyd'>,\n",
       " <Node#31: b'Qui-Gon Jinn'>,\n",
       " <Node#33: b'Finis Valorum'>,\n",
       " <Node#34: b'Padm Amidala'>,\n",
       " <Node#40: b'Shmi Skywalker'>,\n",
       " <Node#48: b'Mace Windu'>,\n",
       " <Node#57: b'Gregar Typho'>,\n",
       " <Node#58: b'Cord'>,\n",
       " <Node#59: b'Cliegg Lars'>,\n",
       " <Node#63: b'Dorm'>,\n",
       " <Node#64: b'Dooku'>,\n",
       " <Node#65: b'Bail Prestor Organa'>,\n",
       " <Node#66: b'Jango Fett'>,\n",
       " <Node#71: b'Jocasta Nu'>,\n",
       " <Node#77: b'Raymus Antilles'>,\n",
       " <Node#79: b'Finn'>,\n",
       " <Node#80: b'Rey'>,\n",
       " <Node#81: b'Poe Dameron'>]"
      ]
     },
     "execution_count": 4,
     "metadata": {},
     "output_type": "execute_result"
    }
   ],
   "source": [
    "Node('Human').all()"
   ]
  },
  {
   "cell_type": "code",
   "execution_count": null,
   "metadata": {
    "collapsed": true
   },
   "outputs": [],
   "source": []
  }
 ],
 "metadata": {
  "kernelspec": {
   "display_name": "Python 3",
   "language": "python",
   "name": "python3"
  },
  "language_info": {
   "codemirror_mode": {
    "name": "ipython",
    "version": 3
   },
   "file_extension": ".py",
   "mimetype": "text/x-python",
   "name": "python",
   "nbconvert_exporter": "python",
   "pygments_lexer": "ipython3",
   "version": "3.4.3"
  }
 },
 "nbformat": 4,
 "nbformat_minor": 0
}
